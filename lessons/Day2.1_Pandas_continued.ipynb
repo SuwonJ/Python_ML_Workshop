{
 "cells": [
  {
   "cell_type": "code",
   "execution_count": null,
   "id": "fba7008a-afb9-4543-9e6a-2e97093a2f7c",
   "metadata": {},
   "outputs": [],
   "source": [
    "v"
   ]
  }
 ],
 "metadata": {
  "kernelspec": {
   "display_name": "Python 3 (ipykernel)",
   "language": "python",
   "name": "python3"
  },
  "language_info": {
   "codemirror_mode": {
    "name": "ipython",
    "version": 3
   },
   "file_extension": ".py",
   "mimetype": "text/x-python",
   "name": "python",
   "nbconvert_exporter": "python",
   "pygments_lexer": "ipython3",
   "version": "3.11.5"
  }
 },
 "nbformat": 4,
 "nbformat_minor": 5
}
