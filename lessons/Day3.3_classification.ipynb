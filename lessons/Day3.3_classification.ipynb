{
 "cells": [
  {
   "cell_type": "markdown",
   "metadata": {},
   "source": [
    "# Day 3.2 Classification"
   ]
  },
  {
   "cell_type": "markdown",
   "metadata": {},
   "source": [
    "<div class=\"alert alert-block alert-info\">\n",
    "\n",
    "## Learning Objectives\n",
    "\n",
    "- Understand the principles of classification and differentiate logistic regression from decision trees.  \n",
    "- Train and evaluate models using metrics like accuracy, precision, recall, and F1-score.  \n",
    "- Interpret the coefficients of logistic regression and the structure of decision trees.  \n",
    "- Identify and mitigate overfitting using regularization (logistic regression) and pruning (decision trees).  \n",
    "- Compare and select models based on interpretability, complexity, and real-world applications.\n",
    "</div>"
   ]
  },
  {
   "cell_type": "markdown",
   "metadata": {},
   "source": [
    "A common task in computational research is to classify an object based on a set of features. In supervised machine learning, we can give an algorithm a dataset of training examples that say \"here are specific features, and this is the target class it belongs to\". With enough training examples, a model can be built that recognizes important features in determining an object's class. This model can then be used to predict the class of an object given its known features.\n",
    "\n",
    "\n",
    "First let's import the packages that we need for this notebook."
   ]
  },
  {
   "cell_type": "code",
   "metadata": {
    "ExecuteTime": {
     "end_time": "2025-01-08T04:50:18.615952Z",
     "start_time": "2025-01-08T04:50:18.601594Z"
    }
   },
   "source": [
    "import pandas as pd\n",
    "import numpy as np\n",
    "import matplotlib.pyplot as plt\n",
    "import seaborn as sb\n",
    "\n",
    "from sklearn.tree import DecisionTreeClassifier, plot_tree\n",
    "from sklearn.linear_model import LogisticRegression\n",
    "from sklearn.preprocessing import OneHotEncoder, StandardScaler\n",
    "from sklearn.model_selection import train_test_split, cross_val_score, KFold\n",
    "from sklearn.metrics import classification_report, confusion_matrix, accuracy_score, recall_score, precision_score, f1_score"
   ],
   "outputs": [],
   "execution_count": 11
  },
  {
   "cell_type": "markdown",
   "metadata": {},
   "source": [
    "## Heart Data"
   ]
  },
  {
   "cell_type": "markdown",
   "metadata": {},
   "source": [
    "Let's import the heart failure prediction data set we have created from the previous activity;"
   ]
  },
  {
   "cell_type": "code",
   "metadata": {
    "ExecuteTime": {
     "end_time": "2025-01-08T04:50:18.763216Z",
     "start_time": "2025-01-08T04:50:18.729979Z"
    }
   },
   "source": [
    "X_train = pd.read_csv('../data/heart_X_train.csv')\n",
    "X_test = pd.read_csv('../data/heart_X_test.csv')\n",
    "y_train = pd.read_csv('../data/heart_y_train.csv')\n",
    "y_test = pd.read_csv('../data/heart_y_test.csv')"
   ],
   "outputs": [],
   "execution_count": 12
  },
  {
   "cell_type": "code",
   "metadata": {
    "ExecuteTime": {
     "end_time": "2025-01-08T04:50:18.887058Z",
     "start_time": "2025-01-08T04:50:18.872459Z"
    }
   },
   "source": [
    "y_train.head()"
   ],
   "outputs": [
    {
     "data": {
      "text/plain": [
       "   Unnamed: 0  HeartDisease\n",
       "0         464             1\n",
       "1         745             1\n",
       "2         916             1\n",
       "3         515             0\n",
       "4         905             1"
      ],
      "text/html": [
       "<div>\n",
       "<style scoped>\n",
       "    .dataframe tbody tr th:only-of-type {\n",
       "        vertical-align: middle;\n",
       "    }\n",
       "\n",
       "    .dataframe tbody tr th {\n",
       "        vertical-align: top;\n",
       "    }\n",
       "\n",
       "    .dataframe thead th {\n",
       "        text-align: right;\n",
       "    }\n",
       "</style>\n",
       "<table border=\"1\" class=\"dataframe\">\n",
       "  <thead>\n",
       "    <tr style=\"text-align: right;\">\n",
       "      <th></th>\n",
       "      <th>Unnamed: 0</th>\n",
       "      <th>HeartDisease</th>\n",
       "    </tr>\n",
       "  </thead>\n",
       "  <tbody>\n",
       "    <tr>\n",
       "      <th>0</th>\n",
       "      <td>464</td>\n",
       "      <td>1</td>\n",
       "    </tr>\n",
       "    <tr>\n",
       "      <th>1</th>\n",
       "      <td>745</td>\n",
       "      <td>1</td>\n",
       "    </tr>\n",
       "    <tr>\n",
       "      <th>2</th>\n",
       "      <td>916</td>\n",
       "      <td>1</td>\n",
       "    </tr>\n",
       "    <tr>\n",
       "      <th>3</th>\n",
       "      <td>515</td>\n",
       "      <td>0</td>\n",
       "    </tr>\n",
       "    <tr>\n",
       "      <th>4</th>\n",
       "      <td>905</td>\n",
       "      <td>1</td>\n",
       "    </tr>\n",
       "  </tbody>\n",
       "</table>\n",
       "</div>"
      ]
     },
     "execution_count": 13,
     "metadata": {},
     "output_type": "execute_result"
    }
   ],
   "execution_count": 13
  },
  {
   "cell_type": "code",
   "metadata": {
    "ExecuteTime": {
     "end_time": "2025-01-08T04:50:19.245227Z",
     "start_time": "2025-01-08T04:50:19.164829Z"
    }
   },
   "source": [
    "X_train.head()"
   ],
   "outputs": [
    {
     "data": {
      "text/plain": [
       "   Unnamed: 0  Sex_M  ChestPainType_ATA  ChestPainType_NAP  ChestPainType_TA  \\\n",
       "0           0    1.0                0.0                1.0               0.0   \n",
       "1           1    0.0                0.0                0.0               0.0   \n",
       "2           2    0.0                1.0                0.0               0.0   \n",
       "3           3    1.0                0.0                1.0               0.0   \n",
       "4           4    1.0                0.0                1.0               0.0   \n",
       "\n",
       "   RestingECG_Normal  RestingECG_ST  ExerciseAngina_Y  ST_Slope_Flat  \\\n",
       "0                1.0            0.0               1.0            0.0   \n",
       "1                1.0            0.0               1.0            1.0   \n",
       "2                0.0            0.0               0.0            1.0   \n",
       "3                0.0            1.0               0.0            1.0   \n",
       "4                0.0            0.0               0.0            1.0   \n",
       "\n",
       "   ST_Slope_Up  FastingBS_1       Age  RestingBP  Cholesterol     MaxHR  \\\n",
       "0          0.0          0.0  0.567297  -0.071588     0.000000 -0.315440   \n",
       "1          0.0          0.0  0.990034  -1.343739     0.501296  1.260397   \n",
       "2          0.0          0.0  0.355928  -0.126899    -0.132316  1.452572   \n",
       "3          0.0          1.0  0.990034  -0.126899     0.000000  0.914482   \n",
       "4          0.0          0.0  1.412771   1.089941    -0.593126  0.530131   \n",
       "\n",
       "    Oldpeak  \n",
       "0  1.093068  \n",
       "1  0.898379  \n",
       "2 -0.853818  \n",
       "3  2.066511  \n",
       "4 -0.075064  "
      ],
      "text/html": [
       "<div>\n",
       "<style scoped>\n",
       "    .dataframe tbody tr th:only-of-type {\n",
       "        vertical-align: middle;\n",
       "    }\n",
       "\n",
       "    .dataframe tbody tr th {\n",
       "        vertical-align: top;\n",
       "    }\n",
       "\n",
       "    .dataframe thead th {\n",
       "        text-align: right;\n",
       "    }\n",
       "</style>\n",
       "<table border=\"1\" class=\"dataframe\">\n",
       "  <thead>\n",
       "    <tr style=\"text-align: right;\">\n",
       "      <th></th>\n",
       "      <th>Unnamed: 0</th>\n",
       "      <th>Sex_M</th>\n",
       "      <th>ChestPainType_ATA</th>\n",
       "      <th>ChestPainType_NAP</th>\n",
       "      <th>ChestPainType_TA</th>\n",
       "      <th>RestingECG_Normal</th>\n",
       "      <th>RestingECG_ST</th>\n",
       "      <th>ExerciseAngina_Y</th>\n",
       "      <th>ST_Slope_Flat</th>\n",
       "      <th>ST_Slope_Up</th>\n",
       "      <th>FastingBS_1</th>\n",
       "      <th>Age</th>\n",
       "      <th>RestingBP</th>\n",
       "      <th>Cholesterol</th>\n",
       "      <th>MaxHR</th>\n",
       "      <th>Oldpeak</th>\n",
       "    </tr>\n",
       "  </thead>\n",
       "  <tbody>\n",
       "    <tr>\n",
       "      <th>0</th>\n",
       "      <td>0</td>\n",
       "      <td>1.0</td>\n",
       "      <td>0.0</td>\n",
       "      <td>1.0</td>\n",
       "      <td>0.0</td>\n",
       "      <td>1.0</td>\n",
       "      <td>0.0</td>\n",
       "      <td>1.0</td>\n",
       "      <td>0.0</td>\n",
       "      <td>0.0</td>\n",
       "      <td>0.0</td>\n",
       "      <td>0.567297</td>\n",
       "      <td>-0.071588</td>\n",
       "      <td>0.000000</td>\n",
       "      <td>-0.315440</td>\n",
       "      <td>1.093068</td>\n",
       "    </tr>\n",
       "    <tr>\n",
       "      <th>1</th>\n",
       "      <td>1</td>\n",
       "      <td>0.0</td>\n",
       "      <td>0.0</td>\n",
       "      <td>0.0</td>\n",
       "      <td>0.0</td>\n",
       "      <td>1.0</td>\n",
       "      <td>0.0</td>\n",
       "      <td>1.0</td>\n",
       "      <td>1.0</td>\n",
       "      <td>0.0</td>\n",
       "      <td>0.0</td>\n",
       "      <td>0.990034</td>\n",
       "      <td>-1.343739</td>\n",
       "      <td>0.501296</td>\n",
       "      <td>1.260397</td>\n",
       "      <td>0.898379</td>\n",
       "    </tr>\n",
       "    <tr>\n",
       "      <th>2</th>\n",
       "      <td>2</td>\n",
       "      <td>0.0</td>\n",
       "      <td>1.0</td>\n",
       "      <td>0.0</td>\n",
       "      <td>0.0</td>\n",
       "      <td>0.0</td>\n",
       "      <td>0.0</td>\n",
       "      <td>0.0</td>\n",
       "      <td>1.0</td>\n",
       "      <td>0.0</td>\n",
       "      <td>0.0</td>\n",
       "      <td>0.355928</td>\n",
       "      <td>-0.126899</td>\n",
       "      <td>-0.132316</td>\n",
       "      <td>1.452572</td>\n",
       "      <td>-0.853818</td>\n",
       "    </tr>\n",
       "    <tr>\n",
       "      <th>3</th>\n",
       "      <td>3</td>\n",
       "      <td>1.0</td>\n",
       "      <td>0.0</td>\n",
       "      <td>1.0</td>\n",
       "      <td>0.0</td>\n",
       "      <td>0.0</td>\n",
       "      <td>1.0</td>\n",
       "      <td>0.0</td>\n",
       "      <td>1.0</td>\n",
       "      <td>0.0</td>\n",
       "      <td>1.0</td>\n",
       "      <td>0.990034</td>\n",
       "      <td>-0.126899</td>\n",
       "      <td>0.000000</td>\n",
       "      <td>0.914482</td>\n",
       "      <td>2.066511</td>\n",
       "    </tr>\n",
       "    <tr>\n",
       "      <th>4</th>\n",
       "      <td>4</td>\n",
       "      <td>1.0</td>\n",
       "      <td>0.0</td>\n",
       "      <td>1.0</td>\n",
       "      <td>0.0</td>\n",
       "      <td>0.0</td>\n",
       "      <td>0.0</td>\n",
       "      <td>0.0</td>\n",
       "      <td>1.0</td>\n",
       "      <td>0.0</td>\n",
       "      <td>0.0</td>\n",
       "      <td>1.412771</td>\n",
       "      <td>1.089941</td>\n",
       "      <td>-0.593126</td>\n",
       "      <td>0.530131</td>\n",
       "      <td>-0.075064</td>\n",
       "    </tr>\n",
       "  </tbody>\n",
       "</table>\n",
       "</div>"
      ]
     },
     "execution_count": 14,
     "metadata": {},
     "output_type": "execute_result"
    }
   ],
   "execution_count": 14
  },
  {
   "cell_type": "markdown",
   "metadata": {},
   "source": [
    "## Null Accuracy\n",
    "\n",
    "Let's say that we wanted to predict if a patient might experience heart failure. One way to do this is to assign all observations to the majority classes. The code below shows the proportion of each condition for heart disease in the training data.\n",
    "\n",
    "**Question:** If we want to maximize accuracy, which species label would we assign to all observations? "
   ]
  },
  {
   "cell_type": "code",
   "metadata": {
    "scrolled": true,
    "ExecuteTime": {
     "end_time": "2025-01-08T04:50:20.027611Z",
     "start_time": "2025-01-08T04:50:20.006567Z"
    }
   },
   "source": [
    "y_train.value_counts('HeartDisease')/sum(y_train.value_counts('HeartDisease'))"
   ],
   "outputs": [
    {
     "data": {
      "text/plain": [
       "HeartDisease\n",
       "1    0.553134\n",
       "0    0.446866\n",
       "Name: count, dtype: float64"
      ]
     },
     "execution_count": 15,
     "metadata": {},
     "output_type": "execute_result"
    }
   ],
   "execution_count": 15
  },
  {
   "cell_type": "markdown",
   "metadata": {},
   "source": [
    "This accuracy is our **baseline model**, and is the number that we will try to improve on with classification."
   ]
  },
  {
   "cell_type": "markdown",
   "metadata": {},
   "source": [
    "Let's get to know our dataset by conducting some exploratory data analysis. We'll be using some rudimentary data analysis to see there's a relationship between the independent variables across species."
   ]
  },
  {
   "cell_type": "markdown",
   "metadata": {},
   "source": [
    "Let's say that we decide that max HR might be a good way to differentiate between presence and absence of heart disease. We can look at a plot of the histogram to see how the distribution of this variable changes between heart disease conditions.\n",
    "\n",
    "**Question**: Where would you place a line to minimize the overlap in the distribution? "
   ]
  },
  {
   "cell_type": "code",
   "metadata": {
    "ExecuteTime": {
     "end_time": "2025-01-08T04:50:21.256889Z",
     "start_time": "2025-01-08T04:50:20.630569Z"
    }
   },
   "source": [
    "sb.histplot(data=X_test,\n",
    "                x = 'MaxHR',\n",
    "                hue = y_test['HeartDisease'],kde=True,bins=30)\n",
    "#plt.axvline(-0.2,color= 'red')"
   ],
   "outputs": [
    {
     "data": {
      "text/plain": [
       "<Axes: xlabel='MaxHR', ylabel='Count'>"
      ]
     },
     "execution_count": 16,
     "metadata": {},
     "output_type": "execute_result"
    },
    {
     "data": {
      "text/plain": [
       "<Figure size 640x480 with 1 Axes>"
      ],
      "image/png": "[encoded data removed]"
     },
     "metadata": {},
     "output_type": "display_data"
    }
   ],
   "execution_count": 16
  },
  {
   "cell_type": "markdown",
   "metadata": {},
   "source": [
    "Now let's apply this same decision boundary to the test data. \n",
    "\n",
    "**Question:** Is this still the best boundary?"
   ]
  },
  {
   "cell_type": "markdown",
   "metadata": {},
   "source": [
    "This is the basic goal of classification. Based on your boundary criteria, you would **classify** all each of the hearts. However there would be some error involved. We can be more confident in our classification at the far ends of the distribution, and less confident where the distributions overlap. \n"
   ]
  },
  {
   "cell_type": "markdown",
   "metadata": {},
   "source": [
    "Now let's figure out how to separate out these groups mathematically. For this, we will start by using an algorithm called Logistic Regression."
   ]
  },
  {
   "cell_type": "markdown",
   "metadata": {},
   "source": [
    "## Logistic Regression\n",
    "\n",
    "Logistic regression is a supervised classification algorithm that is used to predict a binary outcome. Similar to linear regression, this model uses coefficients or betas to make its predictions. However unlike a linear regression, its predictions range from 0 to 1, where 0 and 1 stand for 'confidently class A and B' respectively. Predictions along the middle of the line show less confidence in the prediction.\n",
    "\n",
    "The function for the logistic regression is:\n",
    "$$ p(x) = \\frac{1}{1 + e^{(-\\beta_0+\\beta_1x_1...)}}$$\n",
    "\n",
    "where $\\beta$ are the learned parameters and $x$ are the input features.\n"
   ]
  },
  {
   "cell_type": "markdown",
   "metadata": {},
   "source": [
    "Let's train a logistic regression model on the variable: `MaxHR`"
   ]
  },
  {
   "cell_type": "markdown",
   "metadata": {},
   "source": [
    "### Modeling with Logistic Regression"
   ]
  },
  {
   "cell_type": "markdown",
   "metadata": {},
   "source": [
    "\n",
    "Logistic regression uses the same general steps as many other `sklearn` algorithms:\n",
    "1. Initialize Model\n",
    "2. Fit model on training data\n",
    "3. Evaluate on training and testing datasets"
   ]
  },
  {
   "cell_type": "code",
   "metadata": {
    "ExecuteTime": {
     "end_time": "2025-01-08T04:50:56.070941Z",
     "start_time": "2025-01-08T04:50:56.052287Z"
    }
   },
   "source": [
    "#1) Initialize Model\n",
    "lr = LogisticRegression(max_iter=170)\n",
    "\n",
    "#2) Fit model\n",
    "lr.fit(X_train['MaxHR'].values.reshape(-1, 1), y_train['HeartDisease'])\n",
    "\n",
    "#3) Evaluate\n",
    "train_score = lr.score(X_train['MaxHR'].values.reshape(-1, 1), y_train['HeartDisease'])\n",
    "test_score = lr.score(X_test['MaxHR'].values.reshape(-1, 1), y_test['HeartDisease'])\n",
    "\n",
    "print(\"Training score:\", train_score, \"Testing score:\", test_score)"
   ],
   "outputs": [
    {
     "name": "stdout",
     "output_type": "stream",
     "text": [
      "Training score: 0.6866485013623979 Testing score: 0.5978260869565217\n"
     ]
    }
   ],
   "execution_count": 21
  },
  {
   "cell_type": "markdown",
   "metadata": {},
   "source": [
    "**Question:** How well did the model do compared to baseline?"
   ]
  },
  {
   "cell_type": "markdown",
   "metadata": {},
   "source": [
    "## Multivariate Logistic Regression\n",
    "\n",
    "\n",
    "The logistic regression did a pretty good job at classifying the heart diseases. However, we have more than just Max HR to base our decision of heart disease. For example, let's look at the combination of `Max HR` and `Age` in our data by using a scatterplot.\n",
    "\n",
    "In the two dimensional space, the intuition is that we want to draw a line that separates the classes. \n",
    "\n",
    "**Question:** Is it possible to draw a line that separates the groups? If it is, this is a **linearly seperable** problem"
   ]
  },
  {
   "cell_type": "code",
   "metadata": {
    "ExecuteTime": {
     "end_time": "2025-01-08T04:50:21.661293863Z",
     "start_time": "2025-01-08T03:16:18.393233Z"
    }
   },
   "source": [
    "sb.scatterplot(data=X_train,\n",
    "                x = 'MaxHR',\n",
    "                y = 'Age',\n",
    "                hue = y_train['HeartDisease'])"
   ],
   "outputs": [
    {
     "data": {
      "text/plain": [
       "<Axes: xlabel='MaxHR', ylabel='Age'>"
      ]
     },
     "execution_count": 8,
     "metadata": {},
     "output_type": "execute_result"
    },
    {
     "data": {
      "text/plain": [
       "<Figure size 640x480 with 1 Axes>"
      ],
      "image/png": "[encoded data removed]"
     },
     "metadata": {},
     "output_type": "display_data"
    }
   ],
   "execution_count": 8
  },
  {
   "cell_type": "markdown",
   "metadata": {},
   "source": [
    "Let's retrain the logistic model with two variables."
   ]
  },
  {
   "cell_type": "code",
   "metadata": {
    "ExecuteTime": {
     "end_time": "2025-01-08T08:08:26.757234Z",
     "start_time": "2025-01-08T08:08:24.479440Z"
    }
   },
   "source": [
    "lr = LogisticRegression(max_iter=170)\n",
    "lr.fit(X_train[['MaxHR','Age']], y_train['HeartDisease'])\n",
    "\n",
    "train_score = lr.score(X_train[['MaxHR','Age']], y_train['HeartDisease'])\n",
    "test_score = lr.score(X_test[['MaxHR','Age']], y_test['HeartDisease'])\n",
    "\n",
    "print(\"Training score = {}, testing score = {}\".format(train_score, test_score))\n"
   ],
   "outputs": [
    {
     "ename": "NameError",
     "evalue": "name 'LogisticRegression' is not defined",
     "output_type": "error",
     "traceback": [
      "\u001B[0;31m---------------------------------------------------------------------------\u001B[0m",
      "\u001B[0;31mNameError\u001B[0m                                 Traceback (most recent call last)",
      "Cell \u001B[0;32mIn[1], line 1\u001B[0m\n\u001B[0;32m----> 1\u001B[0m lr \u001B[38;5;241m=\u001B[39m LogisticRegression(max_iter\u001B[38;5;241m=\u001B[39m\u001B[38;5;241m170\u001B[39m)\n\u001B[1;32m      2\u001B[0m lr\u001B[38;5;241m.\u001B[39mfit(X_train[[\u001B[38;5;124m'\u001B[39m\u001B[38;5;124mMaxHR\u001B[39m\u001B[38;5;124m'\u001B[39m,\u001B[38;5;124m'\u001B[39m\u001B[38;5;124mAge\u001B[39m\u001B[38;5;124m'\u001B[39m]], y_train[\u001B[38;5;124m'\u001B[39m\u001B[38;5;124mHeartDisease\u001B[39m\u001B[38;5;124m'\u001B[39m])\n\u001B[1;32m      4\u001B[0m train_score \u001B[38;5;241m=\u001B[39m lr\u001B[38;5;241m.\u001B[39mscore(X_train[[\u001B[38;5;124m'\u001B[39m\u001B[38;5;124mMaxHR\u001B[39m\u001B[38;5;124m'\u001B[39m,\u001B[38;5;124m'\u001B[39m\u001B[38;5;124mAge\u001B[39m\u001B[38;5;124m'\u001B[39m]], y_train[\u001B[38;5;124m'\u001B[39m\u001B[38;5;124mHeartDisease\u001B[39m\u001B[38;5;124m'\u001B[39m])\n",
      "\u001B[0;31mNameError\u001B[0m: name 'LogisticRegression' is not defined"
     ]
    }
   ],
   "execution_count": 1
  },
  {
   "cell_type": "markdown",
   "metadata": {},
   "source": [
    "As most things in real life, we got a decent but not a great score.\n",
    "\n",
    "Now let's take a look at the coefficients of the model. We reference the `lr.coef_` attribute to see the coefficients"
   ]
  },
  {
   "cell_type": "code",
   "execution_count": 54,
   "metadata": {},
   "outputs": [
    {
     "data": {
      "text/plain": [
       "MaxHR   -0.930337\n",
       "Age      0.294876\n",
       "dtype: float64"
      ]
     },
     "execution_count": 54,
     "metadata": {},
     "output_type": "execute_result"
    }
   ],
   "source": [
    "coef = pd.Series(index=['MaxHR','Age'], data=lr.coef_[0])\n",
    "\n",
    "coef.sort_values()"
   ]
  },
  {
   "cell_type": "markdown",
   "metadata": {},
   "source": [
    "**Question:** What do you think the *magnitude* and *sign* of the coefficients means about how these variables are related to each category?\n",
    "**Hint:** Refer back to the scatter plot!"
   ]
  },
  {
   "cell_type": "markdown",
   "metadata": {},
   "source": [
    "## Model evaluation"
   ]
  },
  {
   "cell_type": "markdown",
   "metadata": {},
   "source": [
    "We've covered accuracy already but there a whole litany of other ways to evaluate the performance of a classification model.\n",
    "\n",
    "In a binary classification task, there are four major types of predictions:\n",
    "\n",
    "[Confusion Matrix (Wikipedia)](https://en.wikipedia.org/wiki/Confusion_matrix): \n",
    "- true positive (TP): A test result that correctly indicates the presence of a condition or characteristic\n",
    "- true negative (TN): A test result that correctly indicates the absence of a condition or characteristic\n",
    "- false positive (FP): A test result which wrongly indicates that a particular condition or attribute is present\n",
    "- false negative (FN): A test result which wrongly indicates that a particular condition or attribute is absent\n",
    "\n",
    "\n",
    "Accuracy, which is the most common metric used with classification can be characterized as:\n",
    "\n",
    "$$ Accuracy= \\frac{\\sum{\\text{True Positives}}+\\sum{\\text{True Negatives}}}{\\sum{\\text{Total Population}}}$$"
   ]
  },
  {
   "cell_type": "markdown",
   "metadata": {},
   "source": [
    "We can combine the prediction measures above to create three helpful metrics for evaluating classification: **precision**, **recall**, and **specificity**. "
   ]
  },
  {
   "cell_type": "markdown",
   "metadata": {},
   "source": [
    "\n",
    "1. **Precision**: \n",
    "$$\\frac{\\sum{\\text{True Positives}}}{\\sum{\\text{Predicted Positives}}}$$\n",
    "2. **Recall** (or **Sensitivity**): \n",
    "$$\\frac{\\sum{\\text{True Positives}}}{\\sum{\\text{Condition Positives}}}$$ \n",
    "3. **Specificity** (like recall for negative examples): \n",
    "$$\\frac{\\sum{\\text{True Negatives}}}{\\sum{\\text{Condition Negatives}}}$$\n"
   ]
  },
  {
   "cell_type": "markdown",
   "metadata": {},
   "source": [
    "Let's make a confusion matrix and derive the recall and precision scores."
   ]
  },
  {
   "cell_type": "markdown",
   "metadata": {},
   "source": [
    "First, let's go back to the original (not perfect) model so we can see what these rates look like.\n",
    "\n",
    "First we will retrain the model and make predictions on the test set."
   ]
  },
  {
   "cell_type": "code",
   "metadata": {
    "ExecuteTime": {
     "end_time": "2025-01-08T04:51:01.778734Z",
     "start_time": "2025-01-08T04:51:01.764415Z"
    }
   },
   "source": [
    "lr.fit(X_train[['MaxHR','Age']], y_train['HeartDisease'])\n",
    "preds = lr.predict(X_test[['MaxHR','Age']])"
   ],
   "outputs": [],
   "execution_count": 22
  },
  {
   "cell_type": "code",
   "execution_count": 56,
   "metadata": {},
   "outputs": [
    {
     "data": {
      "text/plain": [
       "array([[49, 33],\n",
       "       [33, 69]])"
      ]
     },
     "execution_count": 56,
     "metadata": {},
     "output_type": "execute_result"
    }
   ],
   "source": [
    "# Pass y_test and preds into confusion_matrix\n",
    "confusion_matrix(y_test['HeartDisease'], preds)"
   ]
  },
  {
   "cell_type": "code",
   "metadata": {
    "ExecuteTime": {
     "end_time": "2025-01-08T04:51:05.265331Z",
     "start_time": "2025-01-08T04:51:05.256685Z"
    }
   },
   "source": "tn, fp, fn, tp = confusion_matrix(y_test['HeartDisease'], preds).ravel()",
   "outputs": [],
   "execution_count": 23
  },
  {
   "cell_type": "markdown",
   "metadata": {},
   "source": [
    "## 🦾 Challenge: Let's make a more complicated model"
   ]
  },
  {
   "cell_type": "code",
   "metadata": {
    "ExecuteTime": {
     "end_time": "2025-01-08T04:51:56.859600Z",
     "start_time": "2025-01-08T04:51:56.848827Z"
    }
   },
   "source": [
    "def calcdata(tp,fp,fn,tn):\n",
    "    print(\"acc:\"+str((tp+tn)/(tp+tn+fp+fn)))\n",
    "    print(\"prec:\"+str((tp)/(tp+fp)))\n",
    "    print(\"recall:\"+str((tp)/(tp+fn)))\n",
    "    print(\"specificity:\"+str((tn)/(tn+fp)))\n",
    "    print(\"f1:\"+str((2*(tp)/(tp+fp)(tp)/(tp+fn))/((tp)/(tp+fp)+(tp)/(tp+fn))))"
   ],
   "outputs": [],
   "execution_count": 25
  },
  {
   "metadata": {
    "ExecuteTime": {
     "end_time": "2025-01-08T04:51:58.060826Z",
     "start_time": "2025-01-08T04:51:58.012972Z"
    }
   },
   "cell_type": "code",
   "source": "calcdata(tp,fp,fn,tn)",
   "outputs": [
    {
     "name": "stdout",
     "output_type": "stream",
     "text": [
      "acc:0.6413043478260869\n",
      "prec:0.6764705882352942\n",
      "recall:0.6764705882352942\n",
      "specificity:0.5975609756097561\n"
     ]
    },
    {
     "ename": "TypeError",
     "evalue": "'numpy.int64' object is not callable",
     "output_type": "error",
     "traceback": [
      "\u001B[0;31m---------------------------------------------------------------------------\u001B[0m",
      "\u001B[0;31mTypeError\u001B[0m                                 Traceback (most recent call last)",
      "Cell \u001B[0;32mIn[26], line 1\u001B[0m\n\u001B[0;32m----> 1\u001B[0m calcdata(tp,fp,fn,tn)\n",
      "Cell \u001B[0;32mIn[25], line 6\u001B[0m, in \u001B[0;36mcalcdata\u001B[0;34m(tp, fp, fn, tn)\u001B[0m\n\u001B[1;32m      4\u001B[0m \u001B[38;5;28mprint\u001B[39m(\u001B[38;5;124m\"\u001B[39m\u001B[38;5;124mrecall:\u001B[39m\u001B[38;5;124m\"\u001B[39m\u001B[38;5;241m+\u001B[39m\u001B[38;5;28mstr\u001B[39m((tp)\u001B[38;5;241m/\u001B[39m(tp\u001B[38;5;241m+\u001B[39mfn)))\n\u001B[1;32m      5\u001B[0m \u001B[38;5;28mprint\u001B[39m(\u001B[38;5;124m\"\u001B[39m\u001B[38;5;124mspecificity:\u001B[39m\u001B[38;5;124m\"\u001B[39m\u001B[38;5;241m+\u001B[39m\u001B[38;5;28mstr\u001B[39m((tn)\u001B[38;5;241m/\u001B[39m(tn\u001B[38;5;241m+\u001B[39mfp)))\n\u001B[0;32m----> 6\u001B[0m \u001B[38;5;28mprint\u001B[39m(\u001B[38;5;124m\"\u001B[39m\u001B[38;5;124mf1:\u001B[39m\u001B[38;5;124m\"\u001B[39m\u001B[38;5;241m+\u001B[39m\u001B[38;5;28mstr\u001B[39m((\u001B[38;5;241m2\u001B[39m\u001B[38;5;241m*\u001B[39m(tp)\u001B[38;5;241m/\u001B[39m(tp\u001B[38;5;241m+\u001B[39mfp)(tp)\u001B[38;5;241m/\u001B[39m(tp\u001B[38;5;241m+\u001B[39mfn))\u001B[38;5;241m/\u001B[39m((tp)\u001B[38;5;241m/\u001B[39m(tp\u001B[38;5;241m+\u001B[39mfp)\u001B[38;5;241m+\u001B[39m(tp)\u001B[38;5;241m/\u001B[39m(tp\u001B[38;5;241m+\u001B[39mfn))))\n",
      "\u001B[0;31mTypeError\u001B[0m: 'numpy.int64' object is not callable"
     ]
    }
   ],
   "execution_count": 26
  },
  {
   "cell_type": "markdown",
   "metadata": {},
   "source": [
    "## Challenge 1: Model Evaluation\n",
    "\n",
    "1). What are the TP, FP, TN, FN in these model results?\n",
    "\n",
    "2). What is the precision and recall for this model?\n",
    "\n",
    "3). Which is more important, precision or recall?"
   ]
  },
  {
   "metadata": {},
   "cell_type": "markdown",
   "source": [
    "TP:69 FP:33 TN:49 FN:33\n",
    "\n",
    "Precision: = 0.597560976\n",
    "Recall: = 0.415254237\n",
    "\n",
    "In this case, recall is more important since getting false negative in the heart disease is a serious error."
   ]
  },
  {
   "cell_type": "markdown",
   "metadata": {},
   "source": [
    "Depending on your task, other metrics than accuracy might be more beneficial to understanding your model's performance. At the very least, examining the confusion matrix is a great way to get a better sense of how your model is performing across classes."
   ]
  },
  {
   "cell_type": "markdown",
   "metadata": {},
   "source": [
    "### Can we add regularization terms and make the model better?"
   ]
  },
  {
   "cell_type": "code",
   "metadata": {
    "ExecuteTime": {
     "end_time": "2025-01-08T04:57:10.891375Z",
     "start_time": "2025-01-08T04:57:10.871448Z"
    }
   },
   "source": [
    "# Apply L1 regularization\n",
    "lr = LogisticRegression(penalty='l2', solver='liblinear', max_iter=170, C=1.0)  # Adjust C for regularization strength\n",
    "lr.fit(X_train, y_train['HeartDisease'])\n",
    "\n",
    "# Evaluate the model\n",
    "train_score = lr.score(X_train, y_train['HeartDisease'])\n",
    "test_score = lr.score(X_test, y_test['HeartDisease'])\n",
    "\n",
    "print(\"Training score = {}, testing score = {}\".format(train_score, test_score))"
   ],
   "outputs": [
    {
     "name": "stdout",
     "output_type": "stream",
     "text": [
      "Training score = 0.8760217983651226, testing score = 0.8641304347826086\n"
     ]
    }
   ],
   "execution_count": 28
  },
  {
   "cell_type": "code",
   "metadata": {
    "scrolled": true,
    "ExecuteTime": {
     "end_time": "2025-01-08T04:57:14.597804Z",
     "start_time": "2025-01-08T04:57:14.589814Z"
    }
   },
   "source": [
    "coef = pd.Series(index=X_train.columns, data=lr.coef_[0])\n",
    "\n",
    "coef.sort_values()"
   ],
   "outputs": [
    {
     "data": {
      "text/plain": [
       "ChestPainType_ATA   -1.815006\n",
       "ChestPainType_NAP   -1.513160\n",
       "ChestPainType_TA    -1.067781\n",
       "ST_Slope_Up         -0.866080\n",
       "MaxHR               -0.354454\n",
       "RestingBP           -0.054049\n",
       "Unnamed: 0          -0.000830\n",
       "RestingECG_Normal    0.120409\n",
       "Age                  0.132397\n",
       "Cholesterol          0.158888\n",
       "RestingECG_ST        0.195338\n",
       "Oldpeak              0.416200\n",
       "ExerciseAngina_Y     0.792393\n",
       "ST_Slope_Flat        1.137364\n",
       "FastingBS_1          1.138671\n",
       "Sex_M                1.403702\n",
       "dtype: float64"
      ]
     },
     "execution_count": 29,
     "metadata": {},
     "output_type": "execute_result"
    }
   ],
   "execution_count": 29
  }
 ],
 "metadata": {
  "anaconda-cloud": {},
  "hide_input": false,
  "kernelspec": {
   "display_name": "Python 3 (ipykernel)",
   "language": "python",
   "name": "python3"
  },
  "language_info": {
   "codemirror_mode": {
    "name": "ipython",
    "version": 3
   },
   "file_extension": ".py",
   "mimetype": "text/x-python",
   "name": "python",
   "nbconvert_exporter": "python",
   "pygments_lexer": "ipython3",
   "version": "3.11.5"
  },
  "toc": {
   "base_numbering": 1,
   "nav_menu": {},
   "number_sections": false,
   "sideBar": true,
   "skip_h1_title": false,
   "title_cell": "Table of Contents",
   "title_sidebar": "Contents",
   "toc_cell": false,
   "toc_position": {},
   "toc_section_display": "block",
   "toc_window_display": true
  },
  "varInspector": {
   "cols": {
    "lenName": 16,
    "lenType": 16,
    "lenVar": 40
   },
   "kernels_config": {
    "python": {
     "delete_cmd_postfix": "",
     "delete_cmd_prefix": "del ",
     "library": "var_list.py",
     "varRefreshCmd": "print(var_dic_list())"
    },
    "r": {
     "delete_cmd_postfix": ") ",
     "delete_cmd_prefix": "rm(",
     "library": "var_list.r",
     "varRefreshCmd": "cat(var_dic_list()) "
    }
   },
   "types_to_exclude": [
    "module",
    "function",
    "builtin_function_or_method",
    "instance",
    "_Feature"
   ],
   "window_display": false
  }
 },
 "nbformat": 4,
 "nbformat_minor": 4
}
