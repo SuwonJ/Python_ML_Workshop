{
 "cells": [
  {
   "cell_type": "markdown",
   "id": "11b37d10-4bfd-413e-a2f7-e05a56e9338e",
   "metadata": {},
   "source": [
    "# Day 1.1: Python Fundamentals"
   ]
  },
  {
   "cell_type": "markdown",
   "id": "a72e72f5-589c-4d77-94c4-25b0071ed661",
   "metadata": {},
   "source": [
    "<div class=\"alert alert-block alert-info\">\n",
    "    \n",
    "## Learning Objectives\n",
    "- Learn how to use Jupyter Notebook\n",
    "- Apply basic python synthax for programming\n",
    "- Create new functions\n",
    "- Write and execute loops and iterations\n",
    "- Be able to troubleshoot by reading documentations\n",
    "</div>"
   ]
  },
  {
   "cell_type": "markdown",
   "id": "9e75fb4f-d375-4158-9d5f-ee057245b3d2",
   "metadata": {
    "jp-MarkdownHeadingCollapsed": true
   },
   "source": [
    "### Sections\n",
    "1. [Python and Jupyter Notebook Basics](#part1)\n",
    "2. [Data types and Structures](#part2)\n",
    "3. [Functions and Arguments](#part3)\n",
    "4. [Iteration -- Loops](#part4)"
   ]
  },
  {
   "cell_type": "markdown",
   "id": "f3c6529b-dc55-4ac3-9e4b-2d6fa6787c55",
   "metadata": {},
   "source": [
    "<a id='part1'></a>\n",
    "# Part 1: Python and Jupyter Notebook Basics "
   ]
  },
  {
   "cell_type": "markdown",
   "id": "65b8fdae-ac77-4c32-8908-4db6e299398c",
   "metadata": {},
   "source": [
    "## What is and Why PYTHON?"
   ]
  },
  {
   "cell_type": "markdown",
   "id": "e3ea69f5-f9ff-451a-9288-53ea696d364c",
   "metadata": {},
   "source": [
    "<b>Python</b> is a computer programming language. Python is commonly used in many different fields, ranging from building websites and softwares to data analysis and visualization. I use python for this course because:\n",
    "1) Python is open source\n",
    "2) Python is relatively easy programming language to learn\n",
    "3) Python is widely used, flexible, and versatile\n",
    "4) Python is commonly used in data science"
   ]
  },
  {
   "cell_type": "markdown",
   "id": "da77bc0d-8dbb-4d01-8df0-bd0a33d261ab",
   "metadata": {},
   "source": [
    "## What is Jupyter Notebook / Jupyter Lab?"
   ]
  },
  {
   "cell_type": "markdown",
   "id": "b57be4ae-a077-41cf-af95-808aab892859",
   "metadata": {},
   "source": [
    "There are various ways to write and execute python scripts.</br> \n",
    "<b>Jupyter Notebook</b> is an application that allows us to create and share an interactive documents that contain code, text, and visualizations. "
   ]
  },
  {
   "cell_type": "markdown",
   "id": "138b470c-9286-4ee3-b3cd-26d4f63a6022",
   "metadata": {},
   "source": [
    "#### There are two types of cells: Markdown cells and Code cells\n",
    "This is a markdown cell containing plain texts. Markdown has its own syntax. Here's a [cheatsheet](https://github.com/adam-p/markdown-here/wiki/Markdown-Cheatsheet) if you want to learn more, and I will tell you the basics. "
   ]
  },
  {
   "cell_type": "markdown",
   "id": "0c4dc05c-1f25-4e77-ac08-418e03e75f53",
   "metadata": {},
   "source": [
    "First, you can double-click this text cell to see the Markdown code that's rendering this cell. Press **Shift + Return** on Mac, or **Shift + Enter** on PC, to go back to the formatted text."
   ]
  },
  {
   "cell_type": "markdown",
   "id": "ee649535-a4ec-4da6-8702-3b5746d21528",
   "metadata": {},
   "source": [
    "## Command Mode and Edit Mode \n",
    "\n",
    "Jupyter has two modes: **Edit mode** and **Command mode**. In edit mode, you can type texts into the cell like a text editor. Command mode allows you to work with the notebook as a whole but cannot edit individual cells.\n",
    "q\n",
    "- Enter **Edit Mode** by pressing **Return** on Mac, or **Enter** on PC. You can also double-click on a cell’s editor area.\n",
    "- Enter **Command Mode** by pressing **Esc** or clicking outside a cell's editor area. In command mode you can use shortcuts to work with cells:\n",
    "    - `c`: copy cell.\n",
    "    - `v`: paste cell.\n",
    "    - `d, d` (press key twice): delete cell.\n",
    "    - `a`: insert cell above.\n",
    "    - `b`: insert cell below.\n",
    "    - `m`: change code cell to markdown cell\n",
    "    - `y`: chance markdown cell to code cell"
   ]
  },
  {
   "cell_type": "markdown",
   "id": "e2a90cf3-f1af-4171-8e45-a3eb2d674a75",
   "metadata": {},
   "source": [
    "## Code Cells\n",
    "This is a markdown cell, and the cell <b>below</b> is a code cell. Press **Shift + Return** on Mac (or **Shift + Enter** on PC) on it to run the code and advance to the next cell.<br>"
   ]
  },
  {
   "cell_type": "code",
   "execution_count": null,
   "id": "2175b934-8996-4080-8337-eade8ce68302",
   "metadata": {},
   "outputs": [],
   "source": [
    "# Press shift + enter or shift + return to run this code\n",
    "print(\"Hello, My name is Leah!\")"
   ]
  },
  {
   "cell_type": "markdown",
   "id": "4a0d720c-a3b1-45b5-b7bb-32ae8859c38d",
   "metadata": {},
   "source": [
    "In Python, the hashtag symbol (#) is used to create comments. Comments are lines of code that the interpreter ignores during execution. They are used to explain the code, making it easier for humans to understand."
   ]
  },
  {
   "cell_type": "markdown",
   "id": "d4981eb1-11f2-4f7c-b59c-5f01982439df",
   "metadata": {
    "jp-MarkdownHeadingCollapsed": true
   },
   "source": [
    "### 🦾 Challenge 1:\n",
    "1) Create a <b>code block</b> below this.\n",
    "2) Copy and paste the code with print and modify it.\n",
    "3) Write a comment"
   ]
  },
  {
   "cell_type": "markdown",
   "id": "04f662c7-764f-4480-8d77-bd437fd8674f",
   "metadata": {},
   "source": [
    "## Operators and Variables in Python"
   ]
  },
  {
   "cell_type": "code",
   "execution_count": null,
   "id": "297aaa57-29a0-4433-96c0-506a169b8444",
   "metadata": {},
   "outputs": [],
   "source": [
    "1"
   ]
  },
  {
   "cell_type": "markdown",
   "id": "4a9a34f0-12a8-4bf8-87be-e812a7e5a4db",
   "metadata": {},
   "source": [
    "We can input numbers in Python as it is. We can also use Python as a calculator:"
   ]
  },
  {
   "cell_type": "code",
   "execution_count": null,
   "id": "914ad296-022b-44aa-80f7-9f1e986007ca",
   "metadata": {},
   "outputs": [],
   "source": [
    "1+1"
   ]
  },
  {
   "cell_type": "code",
   "execution_count": null,
   "id": "141e1a51-6081-45a7-a589-5992f898347c",
   "metadata": {},
   "outputs": [],
   "source": [
    "10 + 4 * 2"
   ]
  },
  {
   "cell_type": "code",
   "execution_count": null,
   "id": "1042b530-57fa-47e9-bc7a-eccd4606d8f7",
   "metadata": {},
   "outputs": [],
   "source": [
    "4**2"
   ]
  },
  {
   "cell_type": "markdown",
   "id": "296ad8db-1d7d-42fa-be81-8ce7b9edabf6",
   "metadata": {},
   "source": [
    "Arithmatic operators are used to perform common mathematical operations:\n",
    "- `+`: Addition\n",
    "- `-`: Subtraction\n",
    "- `*` : Multiplication\n",
    "- `/`: Division\n",
    "- `%`: Modulus\n",
    "- `**`: Exponentiation\n",
    "- `//`: Floor division"
   ]
  },
  {
   "cell_type": "markdown",
   "id": "4bf2198e-a469-4ae7-bbe4-950799b2a77a",
   "metadata": {},
   "source": [
    "In Python, we can assign a value to a **variable**, using the equals sign `=`. You can think of a variable as a \"placeholder\" or symbolic name for some value.\n",
    "\n",
    "For example, we can assign the result of the above calculation to a variable called `a`."
   ]
  },
  {
   "cell_type": "code",
   "execution_count": null,
   "id": "0c5e1120-e440-49a8-b322-168f87544613",
   "metadata": {},
   "outputs": [],
   "source": [
    "a = 4**2"
   ]
  },
  {
   "cell_type": "code",
   "execution_count": null,
   "id": "d6769342-93d7-4998-bc69-1dd260110108",
   "metadata": {},
   "outputs": [],
   "source": [
    "print(a)"
   ]
  },
  {
   "cell_type": "markdown",
   "id": "71e04def-7c72-4e2b-8d43-bf3e9ef174c5",
   "metadata": {},
   "source": [
    "💡 **Tip**: In Jupyter, you don't always have to `print` to see the value. You can just type the variable name and run the cell. "
   ]
  },
  {
   "cell_type": "code",
   "execution_count": null,
   "id": "545efdf6-8613-4fce-9246-79de9eb188e9",
   "metadata": {},
   "outputs": [],
   "source": [
    "a"
   ]
  },
  {
   "cell_type": "markdown",
   "id": "4cdcb278-06f8-449f-86a8-f24c2b14dffd",
   "metadata": {},
   "source": [
    "Try using **Shift + Return / Enter** to run the following cell three times. What is the output? "
   ]
  },
  {
   "cell_type": "code",
   "execution_count": null,
   "id": "ef88e881-9098-4453-b883-13bb510b4243",
   "metadata": {},
   "outputs": [],
   "source": [
    "#Shift + Return / Enter THREE times\n",
    "a = a * 4\n",
    "print(a)"
   ]
  },
  {
   "cell_type": "markdown",
   "id": "ce8d0d54-7592-425f-b81e-db87a2d96752",
   "metadata": {},
   "source": [
    "## Naming Variables\n",
    "\n",
    "Variable names **must** follow a few rules:\n",
    "\n",
    "* Variable names cannot start with a digit.\n",
    "* Variable names cannot contain spaces, quotation marks, or other punctuation.\n",
    "* Variable names *may* contain an underscore.\n",
    "* Variable names are case-sensitive (`leah` is not the same as `Leah`).\n"
   ]
  },
  {
   "cell_type": "markdown",
   "id": "67f5c696-2c02-41ac-aadf-93f6184c637a",
   "metadata": {},
   "source": [
    "### 🦾 Challenge 2:\n",
    "1) Create a <b>code block</b> below this.\n",
    "2) Save a variable with some combination of arithmetic operations\n",
    "3) Write a comment"
   ]
  },
  {
   "cell_type": "markdown",
   "id": "38915969-05bc-4191-8e31-0610b56fe117",
   "metadata": {},
   "source": [
    "### 💡 True or False?"
   ]
  },
  {
   "cell_type": "markdown",
   "id": "199eb150-cd63-42e7-aa25-712a306b2677",
   "metadata": {},
   "source": [
    "A <b>boolean value</b> in Python represents one of two values: True or False. <br>\n",
    "There are operators that result in True or False. "
   ]
  },
  {
   "cell_type": "markdown",
   "id": "8ca502ad-5b08-4f8b-98eb-891c024e5e83",
   "metadata": {},
   "source": [
    "### How about if we just type text in to a code cell?"
   ]
  },
  {
   "cell_type": "code",
   "execution_count": null,
   "id": "f584ef55-7b9e-4abb-8930-9802b39aaeb3",
   "metadata": {
    "scrolled": true
   },
   "outputs": [],
   "source": [
    "abc"
   ]
  },
  {
   "cell_type": "markdown",
   "id": "ad5e50e4-371f-45dc-81b9-754212b5ddd5",
   "metadata": {},
   "source": [
    "or break the rule for naming variables"
   ]
  },
  {
   "cell_type": "code",
   "execution_count": null,
   "id": "948f5242-ac35-4111-98b9-5f0d6181251d",
   "metadata": {
    "scrolled": true
   },
   "outputs": [],
   "source": [
    "1hello = 12"
   ]
  },
  {
   "cell_type": "markdown",
   "id": "c77e1d33-814c-49c3-85a6-f151e6169aeb",
   "metadata": {},
   "source": [
    "## Debugging\n",
    "\n",
    "You've seen two types of errors: `SyntaxError` (you're writing something wrong) and `NameError` (the variable, function, or module you're calling doesn't exist). There are many other errors. **Don't be daunted by them!**\n",
    "\n",
    "When you want to try and debug an error, think of the following:\n",
    "\n",
    "1. **Read the errors.** Especially the last line of the error message. It gives you a summary about what went wrong, and where in the line the error is found. \n",
    "2. **Check your syntax.** You might have spelled something incorrectly, accidentally capitalized a variable, or missing a parenthesis or a quotation mark.\n",
    "3. **Look for help.** You might just be using a function with incorrect input. Read documentation and find help online. ChatGPT can be helpful in coding as well. (But sometimes you have to debug codes from ChatGPT.)"
   ]
  },
  {
   "cell_type": "markdown",
   "id": "255903f9-de65-4d50-b82f-09bc20d7ae06",
   "metadata": {},
   "source": [
    "### 🦾 Challenge 3:"
   ]
  },
  {
   "cell_type": "code",
   "execution_count": null,
   "id": "92577903-c5e7-4d6d-9d8e-ea1ab1e90951",
   "metadata": {},
   "outputs": [],
   "source": [
    "print 'there will be an error'"
   ]
  },
  {
   "cell_type": "markdown",
   "id": "3c50f43e-ad91-41fb-b745-09f4d2d4e9cc",
   "metadata": {},
   "source": [
    "## The Kernel\n",
    "\n",
    "The **kernel** is the computational engine that executes the code contained in a Jupyter Notebook. Each time you run a code block, the kernel processes that block, executes the code, and keeps a record of what was run.\n",
    " \n",
    "⚠️ **Warning**: Jupyter remembers all lines of code it executed, **even if it's not currently displayed in the Notebook**. Deleting a line of code or changing it to Markdown does not delete it from the Notebook's memory if it has already been run! This can cause a lot of confusion."
   ]
  },
  {
   "cell_type": "markdown",
   "id": "540ba0b4-7155-460e-8868-825089cd01b1",
   "metadata": {},
   "source": [
    "### Restarting the Kernel\n",
    "\n",
    "To clear your session in a Jupyter Notebook, use `Kernel -> Restart` in the menu. The kernel is basically the program actually running the code, so if you reset the kernel, it's as if you just opened up the Notebook for the first time. **All of the variables you set are lost.**\n",
    "\n",
    "**Question:** Run the cell below. What is the output?"
   ]
  },
  {
   "cell_type": "code",
   "execution_count": null,
   "id": "08930ecc-0196-4a4a-a0ba-c39f9ded6dfe",
   "metadata": {},
   "outputs": [],
   "source": [
    "mystring = 'This was the string before kernel restarted'\n",
    "\n",
    "mystring"
   ]
  },
  {
   "cell_type": "markdown",
   "id": "c27c3b64-f5ad-4445-92e0-93311d366ca6",
   "metadata": {},
   "source": [
    " Now use `Kernel -> Restart` in the menu! Then run the code below. What happens?"
   ]
  },
  {
   "cell_type": "code",
   "execution_count": null,
   "id": "9491ae1a-d546-402a-bfb1-cd393361da34",
   "metadata": {},
   "outputs": [],
   "source": [
    "mystring"
   ]
  },
  {
   "cell_type": "markdown",
   "id": "33c67a35-19e3-46a9-bc8f-9795e538ee60",
   "metadata": {},
   "source": [
    "💡 **Tip:** you can use the magic command `%whos` to see the variables that exist in this kernel. Magic commands are specific to Jupyter environments. [Here is the documentation for Magic Commands](https://ipython.readthedocs.io/en/stable/interactive/magics.html). "
   ]
  },
  {
   "cell_type": "code",
   "execution_count": null,
   "id": "73bc5cee-7e6e-4a96-971b-9041cbc8ef71",
   "metadata": {
    "scrolled": true
   },
   "outputs": [],
   "source": [
    "# This is a magic command\n",
    "%whos"
   ]
  },
  {
   "cell_type": "markdown",
   "id": "9bd4ea55-0c77-4d23-b89b-f739bd3bcdc3",
   "metadata": {},
   "source": [
    "<a id='part2'></a>\n",
    "\n",
    "# Part 2: Data types and Structures"
   ]
  },
  {
   "cell_type": "markdown",
   "id": "f9eccd08-c1da-40df-bd08-b7e651467a65",
   "metadata": {},
   "source": [
    "<a id='dtypes'></a>\n",
    "\n",
    "## Data Types in Python\n",
    "\n",
    "In Python, **data types** classify data. This classification is important becuase data types determine what you can do with the data. For example, it makes sense to \"round off\" a number, but it would not make sense to this operation to text. \n",
    "\n",
    "Python provides a wide range of data types, and here, we'll focus on three fundamental types: **integers, floats, and strings**. We'll also introduce **lists** and **dictionaries**, which are examples of data structures. These structures allow you to organize and manage collections of data effectively. Lists are ordered sequences of elements, while dictionaries store data in key-value pairs, making them highly versatile tools for organizing complex information."
   ]
  },
  {
   "cell_type": "markdown",
   "id": "63d216aa-8280-4497-bfca-164a72aeeea6",
   "metadata": {},
   "source": [
    "We can use the `type()` **function** to identify the type of a variable. "
   ]
  },
  {
   "cell_type": "markdown",
   "id": "e925a71f-aaa3-46fd-8f7c-d659d8dcd3bc",
   "metadata": {},
   "source": [
    "In Python, a **function** is a block of reusable code that performs a specific task. Functions allow you to organize your code into manageable sections, avoid repetition, and make your programs more modular and readable. Functions are signified by **parentheses** following them, which contain any inputs to the function.\n",
    "\n",
    "Functions are like \"recipes\" for performing a particular action: they take input (called arguments or parameters), process that input, and optionally return a result. For example, a function might take two numbers as input, add them together, and return their sum."
   ]
  },
  {
   "cell_type": "code",
   "execution_count": null,
   "id": "dd92de15-f723-420b-8abc-f3528595e7e3",
   "metadata": {},
   "outputs": [],
   "source": [
    "year = 2025\n",
    "type(year)"
   ]
  },
  {
   "cell_type": "code",
   "execution_count": null,
   "id": "47e6e92a-6acb-4d2f-afe3-d67d95a5d699",
   "metadata": {},
   "outputs": [],
   "source": [
    "location = 'Daegu'\n",
    "type(location)"
   ]
  },
  {
   "cell_type": "markdown",
   "id": "404fbb33-8086-4369-bc4e-3435561cd837",
   "metadata": {},
   "source": [
    "Here are some of the most common data types:\n",
    "\n",
    "* **int**: Integers (e.g., `a = 2`).\n",
    "* **float**: Decimal numbers (e.g., `a = 2.01`).\n",
    "* **str**: Strings, which denotes text (e.g., `a = \"2\"` or `a = '2'`).\n",
    "\n",
    "Operations and functions work differently for different types. For example, subtraction works with numeric types like floats, but not with strings."
   ]
  },
  {
   "cell_type": "code",
   "execution_count": null,
   "id": "8b817be4-742d-4ce1-b30c-9ec32f00c7d2",
   "metadata": {
    "scrolled": true
   },
   "outputs": [],
   "source": [
    "# Subtraction with int\n",
    "year - 2"
   ]
  },
  {
   "cell_type": "code",
   "execution_count": null,
   "id": "2eb98910-65ea-42ed-8ced-ca6642e89b15",
   "metadata": {},
   "outputs": [],
   "source": [
    "# Subtraction with str?\n",
    "location - '2'"
   ]
  },
  {
   "cell_type": "markdown",
   "id": "91e6f8da-556f-4233-be2b-69f53430de0a",
   "metadata": {},
   "source": [
    "In contrast, addition works for both strings and numbers:"
   ]
  },
  {
   "cell_type": "code",
   "execution_count": null,
   "id": "1eb599a0-f18b-40b7-8b7e-05cd4dae71e1",
   "metadata": {},
   "outputs": [],
   "source": [
    "# Addition with int\n",
    "year + 2"
   ]
  },
  {
   "cell_type": "code",
   "execution_count": null,
   "id": "fa2d271a-09b0-481e-88d7-c774c7aa626f",
   "metadata": {},
   "outputs": [],
   "source": [
    "# Addition with str = concatenation\n",
    "'Dong-' + location"
   ]
  },
  {
   "cell_type": "markdown",
   "id": "37f4f0cb-6b2a-47a5-9986-d395c6880ca3",
   "metadata": {},
   "source": [
    "### 💡 Tip: Guidelines for Variable Names\n",
    "\n",
    "- Python is case-sensitive (`year` and `Year` are two separate variables).\n",
    "- Use meaningful variable names (e.g. `location` is more informative than `variable1`). \n",
    "- Don't use variable names that refer to existing variables and functions in Python (e.g., `print`, `sum`, `str`)."
   ]
  },
  {
   "cell_type": "markdown",
   "id": "ea64dbfe-3940-46af-940c-48defc3b9566",
   "metadata": {
    "tags": []
   },
   "source": [
    "## Type Conversion\n",
    "\n",
    "Types can get confusing. For instance, we can write a number as either an integer or a string. Python treats these differently, even if to us the value is the same:"
   ]
  },
  {
   "cell_type": "code",
   "execution_count": null,
   "id": "c14cb609-9042-4f1b-ab43-085a3195d44b",
   "metadata": {
    "scrolled": true
   },
   "outputs": [],
   "source": [
    "a = '5'\n",
    "b = 5\n",
    "\n",
    "b - a"
   ]
  },
  {
   "cell_type": "markdown",
   "id": "58551541-0031-46ec-9716-29feecae55e3",
   "metadata": {},
   "source": [
    "Even though our intention is to do numeric subtraction, the type of `a` is a string, which results in an error.\n",
    "\n",
    "If we could convert this to an integer, the operation will work. \n",
    "\n",
    "We can do this with **type conversion**. The `int()` function will convert the input to an integer:"
   ]
  },
  {
   "cell_type": "code",
   "execution_count": null,
   "id": "fcf2b3ed-1968-4eea-8185-15a9cbff6aba",
   "metadata": {},
   "outputs": [],
   "source": [
    "int(a)"
   ]
  },
  {
   "cell_type": "code",
   "execution_count": null,
   "id": "54d897ff-fc4b-47aa-a9aa-f2dd2f62c48e",
   "metadata": {},
   "outputs": [],
   "source": [
    "type(int(a))"
   ]
  },
  {
   "cell_type": "code",
   "execution_count": null,
   "id": "7c9452cd-f1ed-4a0c-84e3-cde724239d77",
   "metadata": {},
   "outputs": [],
   "source": [
    "b - int(a)"
   ]
  },
  {
   "cell_type": "markdown",
   "id": "8c4f24c1-c62a-47f3-b893-8017322e44d5",
   "metadata": {},
   "source": [
    "There are other type conversion functions.\n",
    "\n",
    "- `str()` converts a variable to a string.\n",
    "- `float()` converts a variable to a float. \n",
    "\n",
    "⚠️ **Warning:** If the value cannot be converted to that type, the function will return a `ValueError`. Run the cell below."
   ]
  },
  {
   "cell_type": "code",
   "execution_count": null,
   "id": "6f622928-a0ee-4927-a8af-7c67b22dac7d",
   "metadata": {
    "tags": []
   },
   "outputs": [],
   "source": [
    "int('Daegu')"
   ]
  },
  {
   "cell_type": "markdown",
   "id": "b55bb493-9b8e-414a-aa43-a08fdc8beedc",
   "metadata": {},
   "source": [
    "In the above case, the error means that **non-numeric characters** cannot be interpreted as a number."
   ]
  },
  {
   "cell_type": "markdown",
   "id": "c6b3eb3b-ed8b-4924-9c61-15afe6e27285",
   "metadata": {
    "tags": []
   },
   "source": [
    "<a id='func'></a>\n",
    "\n",
    "## Functions and Methods\n",
    "\n",
    "You've been using **functions** like `print()` and `type()`, to carry out common tasks with data and variables.\n",
    "\n",
    "Functions can be recognized by their trailing parentheses `()`. The data you want to apply the function to goes inside those parentheses.\n",
    "\n",
    "You can even wrap functions into one another. This is called **nesting**. The output of the inner function will become the input of the outer function. Like this:"
   ]
  },
  {
   "cell_type": "code",
   "execution_count": null,
   "id": "c01afbdb-458e-496a-a915-e46d49235a5b",
   "metadata": {},
   "outputs": [],
   "source": [
    "type(round(3.5))"
   ]
  },
  {
   "cell_type": "markdown",
   "id": "3fc4d5b6-4f5e-4a90-b3eb-e18f0a03c6e4",
   "metadata": {
    "tags": []
   },
   "source": [
    "A **method** is a special type of function: one that belongs to a **particular type of object**, like a string or an integer. Methods allow you to do different things with different objects.\n",
    "\n",
    "For instance, we can use a method to turn a string variable into lowercase or uppercase. These lowercase and uppercase methods don't exist for integers, though. That's why we call them methods instead of functions – and why we access them in a different way.\n",
    "\n",
    "You can access (and recognize) methods through **dot notation**. It looks like this: `variable.method()`\n",
    "\n",
    "Let's look at the built-in method `upper()`, which can be applied to a string-type variable:"
   ]
  },
  {
   "cell_type": "code",
   "execution_count": null,
   "id": "6a462c82-8bd3-4bd1-8f49-b5e917bee0f8",
   "metadata": {},
   "outputs": [],
   "source": [
    "country = 'Korea'\n",
    "country.upper()"
   ]
  },
  {
   "cell_type": "markdown",
   "id": "7d2320ec-7050-4849-88e4-967e3b3e7214",
   "metadata": {},
   "source": [
    "🔔 **Question**: What do you think the below cell does?"
   ]
  },
  {
   "cell_type": "code",
   "execution_count": null,
   "id": "f475f4ea-2caa-40f2-b4a3-26deeb4438f1",
   "metadata": {},
   "outputs": [],
   "source": [
    "country.lower()"
   ]
  },
  {
   "cell_type": "markdown",
   "id": "1c9cbbef-b775-493d-9c36-018f33a94b64",
   "metadata": {},
   "source": [
    "Note that you can run methods on variables that hold a data value, or on the data values directly!"
   ]
  },
  {
   "cell_type": "markdown",
   "id": "1ad0133d-e179-4a43-abf1-8ca8b24e5a4e",
   "metadata": {},
   "source": [
    "💡 **Tip**: It is possible to create your own methods in Python, though we do not cover that in this workshop. If you want to learn more, check out [**this lesson by W3Schools**](https://www.w3schools.com/python/python_classes.asp) about Objects and Classes in Python!"
   ]
  },
  {
   "cell_type": "markdown",
   "id": "757695bc-be55-43f0-90ed-1e4e8405a7f4",
   "metadata": {
    "tags": []
   },
   "source": [
    "## Chaining Methods\n",
    "\n",
    "Methods can be **chained** in a single line. You can do this as long as the output of one method directly feeds into the input of the next. These lines can be read sequentially left to right. \n",
    "\n",
    "Use your search engine to look up the two methods that `country` goes through: `lower()` and `startswith()`.\n",
    "\n",
    "After reading up about what these methods do, what do you think the final output of this cell will be?"
   ]
  },
  {
   "cell_type": "code",
   "execution_count": null,
   "id": "4da0df3c-7ddb-4e87-8516-d598ffdb8dae",
   "metadata": {},
   "outputs": [],
   "source": [
    "country.lower().startswith('g')"
   ]
  },
  {
   "cell_type": "markdown",
   "id": "98e7ad2e-66cb-4ece-8df9-ed0217c9fc6a",
   "metadata": {},
   "source": [
    "💡 **Tip**: Recall that when you're doing the same kind of thing with functions, it looks a bit different. You read these **nested functions** from the inside out."
   ]
  },
  {
   "cell_type": "code",
   "execution_count": null,
   "id": "c4955991-ceda-4ca0-bb74-19af04ecceaa",
   "metadata": {},
   "outputs": [],
   "source": [
    "print(type(int('3')))"
   ]
  },
  {
   "cell_type": "markdown",
   "id": "8b64a27c-9482-4155-8a72-b85c0e6731f7",
   "metadata": {},
   "source": [
    "## Adding Arguments\n",
    "\n",
    "Functions typically take their input between the parentheses (e.g. `type()` takes the variable you want to know the type of). Methods, on the other hand, don't always take values in between their parentheses.\n",
    "\n",
    "For instance, in the cell above, the `lower()` method doesn't take any values in between the parentheses, but the `startswith()` method does.\n",
    "\n",
    "Methods (and functions too) can often take additional values that alter their behavior. These values, that go in between the parentheses, are called **arguments**. Let's try them out."
   ]
  },
  {
   "cell_type": "markdown",
   "id": "373e8e25-eef5-448e-b90d-7c5b396a2e1d",
   "metadata": {},
   "source": [
    "### 🦾 Challenge 4:\n",
    "\n",
    "First, let's save a string in a variable."
   ]
  },
  {
   "cell_type": "code",
   "execution_count": null,
   "id": "f038877a-33c4-4ed2-9fa3-a5d21408e0df",
   "metadata": {},
   "outputs": [],
   "source": [
    "sentence = 'The capital of Brazil is Brasília. It has a tropical savanna climate.'"
   ]
  },
  {
   "cell_type": "markdown",
   "id": "6c2443dc-ce09-4693-af1b-246b9c05c594",
   "metadata": {},
   "source": [
    "We can use the `split()` method on `sentence`. Try it out below."
   ]
  },
  {
   "cell_type": "code",
   "execution_count": null,
   "id": "b8d72da0-ca48-45f0-95e2-32384498e2cb",
   "metadata": {},
   "outputs": [],
   "source": [
    "# YOUR CODE HERE\n"
   ]
  },
  {
   "cell_type": "markdown",
   "id": "b328d032-9136-4d21-863d-02b4feff3621",
   "metadata": {},
   "source": [
    "Finally, look up the `split()` method using your search engine. For instance, look for `python split() documentation`.\n",
    "\n",
    "You will find that you can use `sep='.'` in between the parenthesis of `split()`, when applying it to `sentence`. What does it look like this argument does? What is the output?"
   ]
  },
  {
   "cell_type": "code",
   "execution_count": null,
   "id": "76981d2d-45e4-4d9c-8ab8-420e4aadc24a",
   "metadata": {},
   "outputs": [],
   "source": [
    "# YOUR CODE HERE\n"
   ]
  },
  {
   "cell_type": "markdown",
   "id": "c158e717-af50-43d8-bceb-6e61cb0fdb55",
   "metadata": {},
   "source": [
    "<a id='lists'></a>\n",
    "\n",
    "## Lists: Ordered Data Structures\n",
    "\n",
    "**Data structures** allow us to organize data. A list is one such data structure. It is a collection of ordered items. Use a list when you want to keep a bunch of items in one spot.\n",
    "\n",
    "We specify a list with square brackets: `[]` and commas separating each entry in the list."
   ]
  },
  {
   "cell_type": "code",
   "execution_count": null,
   "id": "848a8d99-8160-4fb1-8807-24356cfb1414",
   "metadata": {},
   "outputs": [],
   "source": [
    "body_parts = ['hand', 'leg', 'eye', 'finger', 'knee']\n",
    "type(body_parts)"
   ]
  },
  {
   "cell_type": "markdown",
   "id": "99a41141-cd91-4a79-a19a-a9d55d4c0529",
   "metadata": {},
   "source": [
    "🔔 **Question:** `len()` gives us the number of items in a list. What is the output of the line below?"
   ]
  },
  {
   "cell_type": "code",
   "execution_count": null,
   "id": "71bcbab3-2e10-4446-8717-dffc0c328a36",
   "metadata": {},
   "outputs": [],
   "source": [
    "len(body_parts)"
   ]
  },
  {
   "cell_type": "markdown",
   "id": "91607a11-d18d-4503-8ca7-d22b4bd4b6ec",
   "metadata": {
    "tags": []
   },
   "source": [
    "## Indexing Lists"
   ]
  },
  {
   "cell_type": "markdown",
   "id": "f022fcc9-4a87-4afc-9e2d-6761cac1bde4",
   "metadata": {},
   "source": [
    "Here's our list of countries:"
   ]
  },
  {
   "cell_type": "code",
   "execution_count": null,
   "id": "92e74d70-78f8-4245-b41f-52ad78b985cc",
   "metadata": {},
   "outputs": [],
   "source": [
    "body_parts"
   ]
  },
  {
   "cell_type": "markdown",
   "id": "8b30b2af-e360-4bfe-8f6d-d81d70ee5486",
   "metadata": {},
   "source": [
    "If we want to retrieve an item of a list, we do so by telling Python which **index** of the list we want (e.g., we want the first, second, and third items). This is called **indexing** the list. \n",
    "\n",
    "To index, we use **square brackets**."
   ]
  },
  {
   "cell_type": "markdown",
   "id": "c886f012-f5ad-4bd1-8c15-361eb9546067",
   "metadata": {},
   "source": [
    "🔔 **Question:** Look at the index we create for `body_parts` below. What do you think will be printed?"
   ]
  },
  {
   "cell_type": "code",
   "execution_count": null,
   "id": "695bfc01-1375-4f01-b311-c583c5e1d324",
   "metadata": {},
   "outputs": [],
   "source": [
    "body_parts[1]"
   ]
  },
  {
   "cell_type": "markdown",
   "id": "dfdb8faa-f5dd-428e-8f84-0d504f70af29",
   "metadata": {},
   "source": [
    "Note that Python is **zero**-indexed, meaning the first item has index zero, not one! "
   ]
  },
  {
   "cell_type": "markdown",
   "id": "f64cdbc2-e8e4-4484-a91e-997c6e2ec350",
   "metadata": {},
   "source": [
    "We can also get multiple items from a list. We specify the start index and the end index, separated by a colon `[start:stop]`. \n",
    "\n",
    "The colon indicates that you want to access the item between the two endpoints. If one side of the colon is empty, it indicates using one end of the list as the starting or ending points. "
   ]
  },
  {
   "cell_type": "markdown",
   "id": "eeffeccd-d5b0-45ee-b57a-45da70e1e9c0",
   "metadata": {},
   "source": [
    "🔔 **Question:** Can you guess what the output of these statements will be?"
   ]
  },
  {
   "cell_type": "code",
   "execution_count": null,
   "id": "445c9452-0673-4d0b-adb0-231a492ed5f0",
   "metadata": {},
   "outputs": [],
   "source": [
    "body_parts[1:3]"
   ]
  },
  {
   "cell_type": "code",
   "execution_count": null,
   "id": "f38436d9-20bf-4058-bdab-a7c6c7f46f80",
   "metadata": {},
   "outputs": [],
   "source": [
    "body_parts[2:5]"
   ]
  },
  {
   "cell_type": "code",
   "execution_count": null,
   "id": "740a45f0-c2ca-45bc-b474-78db7e78107d",
   "metadata": {},
   "outputs": [],
   "source": [
    "body_parts[3:]"
   ]
  },
  {
   "cell_type": "markdown",
   "id": "49c7292a-d4fc-4f54-9707-142c66273af0",
   "metadata": {},
   "source": [
    "⚠️ **Warning:** Note that Python will include the item at the start index, but **exclude** the item at the stop index. Here's what happens if you slice `body_parts[1:4]`:"
   ]
  },
  {
   "cell_type": "markdown",
   "id": "01867c80-1313-4fe6-8bc9-55922496d90e",
   "metadata": {
    "tags": []
   },
   "source": [
    "### 🦾 Challenge 5: Indexing\n",
    "\n",
    "Index the following list to get rid of the values `1`, `3`, and `5`. There are different ways to do this!"
   ]
  },
  {
   "cell_type": "code",
   "execution_count": null,
   "id": "54977664-1c1d-4cd8-84b7-5a071ba8b3e3",
   "metadata": {},
   "outputs": [],
   "source": [
    "numbers = [1, 3, 5, 7, 10, 13]\n",
    "\n",
    "# YOUR CODE HERE\n"
   ]
  },
  {
   "cell_type": "markdown",
   "id": "c6fe15c1-fca2-4ae7-af4d-250527bee1fd",
   "metadata": {},
   "source": [
    "Note that lists can contain different data types, such as integers, floats, strings, and even other lists!"
   ]
  },
  {
   "cell_type": "markdown",
   "id": "afde17d1-604c-42a8-8ed3-00916357d897",
   "metadata": {},
   "source": [
    "## List Methods\n",
    "\n",
    "Recall that methods are functions that operate specifically on objects with a particular data type. They are accessed via dot notation: `object.method()`. \n",
    "\n",
    "Lists have their own methods that perform operations specific to lists. The most common method is the `append()` method, which adds an item to the end of a list. \n",
    "\n",
    "The code below adds a country to `country_list` using `append()`:"
   ]
  },
  {
   "cell_type": "code",
   "execution_count": null,
   "id": "facbdede-8aa6-460a-98f1-d21ab70c8de2",
   "metadata": {},
   "outputs": [],
   "source": [
    "print(body_parts)"
   ]
  },
  {
   "cell_type": "code",
   "execution_count": null,
   "id": "7bd31b3d-a89a-48c3-97d0-2cd971d639f2",
   "metadata": {},
   "outputs": [],
   "source": [
    "body_parts.append('elbow')"
   ]
  },
  {
   "cell_type": "code",
   "execution_count": null,
   "id": "58a8d847-ba2c-4c1a-8672-484735a22927",
   "metadata": {},
   "outputs": [],
   "source": [
    "print(body_parts)"
   ]
  },
  {
   "cell_type": "markdown",
   "id": "a4409a5b-cd4e-479f-b603-0b76cd1121f5",
   "metadata": {},
   "source": [
    "🔔 **Question:** Is there anything noteworthy about the way `.append()` seems to work? (Tip: it has to do with assigning variables!)"
   ]
  },
  {
   "cell_type": "markdown",
   "id": "8466a091-1d14-4e4b-83e0-df8cae6d66db",
   "metadata": {},
   "source": [
    "<a id='dicts'></a>\n",
    "\n",
    "## Dictionaries: Key-Value Pairs\n",
    "\n",
    "Dictionaries are organized in pairs of keys and values. The **keys** can be used to access the **values**. Use a dictionary when you have data organized in pairs. In our context, dictionaries can be used to create tabular data (a so-called **data frame**). We'll show you how to do this later. \n",
    "\n",
    "Dictionaries are specified in Python using curly braces. **Colons separate the keys and values**. \n",
    "\n",
    "Let's take a look at an example dictionary:"
   ]
  },
  {
   "cell_type": "code",
   "execution_count": null,
   "id": "75e83f9c-7b29-460b-83a6-a15f983a2eba",
   "metadata": {},
   "outputs": [],
   "source": [
    "# An example dictionary\n",
    "example_dict = {\n",
    "    'patient': 'Lee',\n",
    "    'year': 2025,\n",
    "    'student_ID': 3948547130}"
   ]
  },
  {
   "cell_type": "markdown",
   "id": "4e312067-a0b1-495c-a8d9-a448430112c4",
   "metadata": {},
   "source": [
    "We can access the items of a dictionary by referring to its key name, inside square brackets. "
   ]
  },
  {
   "cell_type": "code",
   "execution_count": null,
   "id": "2de6bc16-aa51-43f8-ad70-5657641a56bf",
   "metadata": {},
   "outputs": [],
   "source": [
    "example_dict['year']"
   ]
  },
  {
   "cell_type": "markdown",
   "id": "1b0ed0f6-6f36-4ac1-b0fc-1de74c2349d8",
   "metadata": {},
   "source": [
    "🔔 **Question**: What do you think the following cell will do?"
   ]
  },
  {
   "cell_type": "code",
   "execution_count": null,
   "id": "ed943b21-c81b-4ae5-a4f0-514456886193",
   "metadata": {},
   "outputs": [],
   "source": [
    "example_dict['student_ID']"
   ]
  },
  {
   "cell_type": "markdown",
   "id": "f445bb50-5382-47b5-8fb4-3a1ce84eeae8",
   "metadata": {},
   "source": [
    "## 🎬 Demo: Creating a Dictionary\n",
    "\n",
    "Here, we will create a dictionary called `country_dict` that takes in a list of items as its values."
   ]
  },
  {
   "cell_type": "code",
   "execution_count": null,
   "id": "24045c28-584c-482b-ac56-643271f53bbc",
   "metadata": {},
   "outputs": [],
   "source": [
    "country = ['Afghanistan', 'Greece', 'Liberia']\n",
    "continent = ['Asia', 'Europe', 'Africa']\n",
    "life_exp = [28.801, 76.670, 46.027]\n",
    "\n",
    "# Creating a dict from lists\n",
    "country_dict = {'country':country, 'continent':continent, 'life_exp':life_exp}\n",
    "country_dict"
   ]
  },
  {
   "cell_type": "markdown",
   "id": "d91b11de-57ce-4475-8048-4082b207f7be",
   "metadata": {},
   "source": [
    "Dictionaries have another advantage – it's easy to turn them into a **data frame**! You'll learn more about data frames the next time."
   ]
  },
  {
   "cell_type": "code",
   "execution_count": null,
   "id": "c9ab64c5-40b5-4cff-bf88-84f975b5320d",
   "metadata": {},
   "outputs": [],
   "source": [
    "import pandas as pd\n",
    "\n",
    "pd.DataFrame(country_dict)"
   ]
  },
  {
   "cell_type": "markdown",
   "id": "36e4e8f9-aac0-4f18-8cf7-cf42b7905124",
   "metadata": {},
   "source": [
    "<a id='part3'></a>\n",
    "\n",
    "# Part 3: Functions and Arguments\n"
   ]
  },
  {
   "cell_type": "markdown",
   "id": "8d176ef7-aaff-460a-bc15-668faa61a81c",
   "metadata": {},
   "source": [
    "Review: What are functions? What are methods?"
   ]
  },
  {
   "cell_type": "code",
   "execution_count": null,
   "id": "cf9ef0b0-9c5d-4af7-ac1e-fbd05246b2e4",
   "metadata": {},
   "outputs": [],
   "source": [
    "?round"
   ]
  },
  {
   "cell_type": "markdown",
   "id": "b9a61694-08c0-4205-aae1-7e9dbf38ce86",
   "metadata": {},
   "source": [
    "The **keywords** are the parameter names in between the brackets before the `=` sign. In this case, these are `number` and `ndigits`.\n",
    "\n",
    "We can't just reverse the order of the arguments in `round()`: this will result in an error."
   ]
  },
  {
   "cell_type": "code",
   "execution_count": null,
   "id": "8dc755f3-c262-459e-b9df-03eb5548019a",
   "metadata": {},
   "outputs": [],
   "source": [
    "# This works\n",
    "round(3.0003, 4)"
   ]
  },
  {
   "cell_type": "code",
   "execution_count": null,
   "id": "018f027f-df75-45b6-b228-92f84ca0e7bf",
   "metadata": {},
   "outputs": [],
   "source": [
    "# This doesn't\n",
    "round(2, 3.000)"
   ]
  },
  {
   "cell_type": "markdown",
   "id": "1942d9be-2860-4f4e-aac1-84f59fc3b5f2",
   "metadata": {},
   "source": [
    "However, if we specify the **keywords** that we can find in the documentation, we can use any order we want."
   ]
  },
  {
   "cell_type": "code",
   "execution_count": null,
   "id": "6d9e7715-2e53-40de-b72e-0c0ba87f965b",
   "metadata": {},
   "outputs": [],
   "source": [
    "round(ndigits=2, number=3.000)"
   ]
  },
  {
   "cell_type": "markdown",
   "id": "fdfe71d7-894b-4608-955f-4f9a317a3c45",
   "metadata": {},
   "source": [
    "⚠️ **Warning**: If you specify one keyword for one argument when calling the function, you need to specify the keywords for all arguments!"
   ]
  },
  {
   "cell_type": "markdown",
   "id": "99df1936-7360-40f5-80da-b1d16917f024",
   "metadata": {},
   "source": [
    "<a id='write'></a>\n",
    "\n",
    "## Writing Your Own Functions\n",
    "\n",
    "We have been using prewritten functions. You can write your own functions if you plan to do the same task over and over again. "
   ]
  },
  {
   "cell_type": "markdown",
   "id": "4306443e-398a-434e-bf76-42bf66a23a02",
   "metadata": {},
   "source": [
    "## Basic Function Syntax\n",
    "\n",
    "Writing a function in Python is pretty easy! Let's take a look at a simple function that converts feet into meters:\n",
    "\n",
    "<img src=\"../images/functions.png\" alt=\"Aspects of a Python Function\" width=\"700\"/>\n",
    "\n",
    "Here's the same function written out:"
   ]
  },
  {
   "cell_type": "code",
   "execution_count": null,
   "id": "fecda434-783d-4964-8012-9dd1498a4315",
   "metadata": {},
   "outputs": [],
   "source": [
    "def feet_to_meters(feet):\n",
    "    meters = feet * .304\n",
    "    return meters"
   ]
  },
  {
   "cell_type": "markdown",
   "id": "1417b873-2723-45f9-95ef-6a52f9a6aedc",
   "metadata": {},
   "source": [
    "Notice how there is **no output** from running the block of code above. This is because defining a function does not run it. The function needs to be **called**, or run, with appropriate arguments to execute the code it contains. \n",
    "\n",
    "Let's run this function. We can save the output to a variable and print the result."
   ]
  },
  {
   "cell_type": "code",
   "execution_count": null,
   "id": "e14209d3-81f3-484e-a163-6684b264a64a",
   "metadata": {},
   "outputs": [],
   "source": [
    "meters = feet_to_meters(100)\n",
    "print(meters)"
   ]
  },
  {
   "cell_type": "markdown",
   "id": "d5f728dc-0053-416f-8ed1-4806a18f1ae1",
   "metadata": {},
   "source": [
    "## Variables and Scope\n",
    "\n",
    "Note how we've used the name `meters` twice above: both within the function definition, and for the variable that takes the output of the function. What's going on here?\n",
    "\n",
    "Arguments and variables created within the function **only exist within the scope of the function!** So `meters` within the function definition is a *different variable* than `meters` which now holds `30.4`."
   ]
  },
  {
   "cell_type": "markdown",
   "id": "7a08abf0-a933-4a09-8eba-886142542101",
   "metadata": {},
   "source": [
    "### 🦾 Challenge 6: your own fucntion\n",
    "\n",
    "Let's write a function that converts Celsius to Fahrenheit. This function should take temperature in the unit of Celcius and output a converted value in Fahrenheit. The formula for the conversion is:\n",
    "\n",
    "$$F = 1.8 * C + 32$$\n",
    "\n",
    "Name this function whatever you want but it is a good practice to make an informative name for a function."
   ]
  },
  {
   "cell_type": "code",
   "execution_count": null,
   "id": "f383f899-663a-447c-9407-87820924f4a0",
   "metadata": {},
   "outputs": [],
   "source": [
    "# YOUR CODE HERE\n"
   ]
  },
  {
   "cell_type": "markdown",
   "id": "48554397-c7da-4201-b2af-8e808e67a70c",
   "metadata": {},
   "source": [
    "<a id='cond'></a>\n",
    "\n",
    "## Conditionals\n",
    "\n",
    "A fundamental structure in programming is the **conditional**. These blocks allow different blocks of code to run, *conditional* on specific things being true.\n",
    " \n",
    "## Conditionals: If-Statements\n",
    "\n",
    "The most widely used conditional is the **if-statement**. An if-statement controls whether some block of code is executed or not.\n",
    "\n",
    "*   The first line opens with the `if` keyword and contains an expression to be evaluated. It ends with a colon. \n",
    "*   The body of the if-statement is indented. It contains the code to execute **if the condition is met**. If it is not met, it will be skipped.\n",
    "\n",
    "Let's look at an example:"
   ]
  },
  {
   "cell_type": "code",
   "execution_count": null,
   "id": "f21ad977-3335-4387-a2ca-1c1acff592a2",
   "metadata": {},
   "outputs": [],
   "source": [
    "number = 105"
   ]
  },
  {
   "cell_type": "code",
   "execution_count": null,
   "id": "04755a1b-dd12-432d-b8a3-205386322a40",
   "metadata": {},
   "outputs": [],
   "source": [
    "# Body is executed\n",
    "if number > 100:\n",
    "    print(number, 'is greater than 100.')"
   ]
  },
  {
   "cell_type": "code",
   "execution_count": null,
   "id": "7c24eb2f-2191-49bc-9880-3ac54997c9bc",
   "metadata": {},
   "outputs": [],
   "source": [
    "# Body is not executed\n",
    "if number > 110:\n",
    "    print(number, 'is greater than 110.')"
   ]
  },
  {
   "cell_type": "markdown",
   "id": "addf121c-8afe-4219-b42d-a6e36ea58b6e",
   "metadata": {},
   "source": [
    "## Conditionals: Else-statements\n",
    "\n",
    "Else-statements supplement if-statements. They allow us to specify an alternative block of code to run if the if-statement's conditional evaluates to `False`.\n",
    "\n",
    "🔔 **Question**: Look at the difference between the following cell and the previous if-statement. How will this else-statement affect the output?"
   ]
  },
  {
   "cell_type": "code",
   "execution_count": null,
   "id": "102610dd-e901-42cf-93f3-7cc8341278d8",
   "metadata": {},
   "outputs": [],
   "source": [
    "number = 90\n",
    "\n",
    "if number > 100:\n",
    "    print(number, 'is greater than 100.')\n",
    "else:\n",
    "    print(number, 'is less than or equal to 100.')"
   ]
  },
  {
   "cell_type": "markdown",
   "id": "d7e7423a-04a4-454c-afef-893266fd347b",
   "metadata": {},
   "source": [
    "## Conditionals: Elif-statements\n",
    "\n",
    "In many cases, we may want to check several conditionals at the same time. **Else-if (Elif-)** statements allow us to specify as many conditional checks as we'd like in the same block.\n",
    "\n",
    "Elif-statements must follow an if-statement. They only are checked if the if-statement fails. Then, each elif-statement is checked, with their corresponding bodies run when the conditional evaluates to `True`.\n",
    "\n",
    "An else statement at the end can act as a \"catch all\", when the if statement and all following else-if statements fail.\n",
    "\n",
    "In Python, else if statements are indicated by the `elif` keyword."
   ]
  },
  {
   "cell_type": "markdown",
   "id": "2fecb6c1-c956-465b-80cf-04bcaae53bf5",
   "metadata": {},
   "source": [
    "### 🦾 Challenge 7: Fixing an Elif\n",
    "\n",
    "Consider the following conditional cell. Run the cell multiple times while changing the value that `number` holds, so that different conditions are met. \n",
    "\n",
    "For which numbers does the conditional not work properly? Could you think of a way to fix this?"
   ]
  },
  {
   "cell_type": "code",
   "execution_count": null,
   "id": "3a319f36-3165-4212-a36a-08b9b54ab501",
   "metadata": {
    "tags": []
   },
   "outputs": [],
   "source": [
    "number = ...\n",
    "\n",
    "if number > 100:\n",
    "    print(number, 'is greater than 100.')\n",
    "elif number > 25:\n",
    "    print(number, 'is greater than 25 and less than or equal to 50.')\n",
    "elif number > 50:\n",
    "    print(number, 'is greater than 50 and less than or equal to 100.')\n",
    "else:\n",
    "    print(number, 'is less than or equal to 25.')"
   ]
  },
  {
   "cell_type": "markdown",
   "id": "f0a2c28f-10ac-4083-bd70-897cdfc3fe07",
   "metadata": {},
   "source": [
    "<a id='bool'></a>\n",
    "\n",
    "## Booleans\n",
    "\n",
    "The if-statements we have been using are based on so-called **booleans**.\n",
    "\n",
    "Booleans are a fundamental data type in programming. Booleans are variables that are **binary**: they can either be `True` or `False` (written with capital letters).\n",
    "\n",
    "When we were running our if-statements, Python was determining which block of code should be executed based on the truth value of a condition. Booleans, in other words, allow for decision making.\n",
    "\n",
    "Booleans are also the result of so-called **comparison operators**, which are operators that compare two values. For example, equality is signaled in Python (and many other languages) by the double equals sign `==`. It's distinct from the assignment operator (single equals sign `=`) used in variable assignment. "
   ]
  },
  {
   "cell_type": "code",
   "execution_count": null,
   "id": "39a87b29-9e9b-4785-a734-fe496c4e2504",
   "metadata": {},
   "outputs": [],
   "source": [
    "1 == 2"
   ]
  },
  {
   "cell_type": "code",
   "execution_count": null,
   "id": "d1fa28f0-465e-420d-9eaa-9dbd53d0d43f",
   "metadata": {},
   "outputs": [],
   "source": [
    "1 == 1"
   ]
  },
  {
   "cell_type": "markdown",
   "id": "764886fe-9721-4fb7-9782-d22c4621877e",
   "metadata": {},
   "source": [
    "Other comparison operators include:"
   ]
  },
  {
   "cell_type": "code",
   "execution_count": null,
   "id": "6660dda7-4b38-4fdd-b820-010403ec36ea",
   "metadata": {},
   "outputs": [],
   "source": [
    "# Less than\n",
    "1 < 2"
   ]
  },
  {
   "cell_type": "code",
   "execution_count": null,
   "id": "d533f8a7-d82a-4475-8467-84a1ca5e436a",
   "metadata": {},
   "outputs": [],
   "source": [
    "# Greater than\n",
    "1 > 2"
   ]
  },
  {
   "cell_type": "code",
   "execution_count": null,
   "id": "73a8e05d-8bb2-4bf9-856b-89b9365f9642",
   "metadata": {},
   "outputs": [],
   "source": [
    "# Unequal to\n",
    "1 != 2"
   ]
  },
  {
   "cell_type": "markdown",
   "id": "17940c86-c426-4463-bece-61bc3c6c973a",
   "metadata": {},
   "source": [
    "<a id='part4'></a>\n",
    "\n",
    "# Part 4: Iteration -- Loops\n",
    "\n",
    "The strength of using computers is their speed. We can leverage this through repeated computation, also called iteration. In Python, we can do this using **loops**. \n",
    "\n",
    "A **[for loop](https://www.w3schools.com/python/python_for_loops.asp)** executes some statements once *for* each value in an iterable (like a list or a string). It says: \"*for* each thing in this group, *do* these operations\".\n",
    "\n",
    "Let's take a look at the syntax of a for loop using the above example:"
   ]
  },
  {
   "cell_type": "code",
   "execution_count": null,
   "id": "913f3630-b281-4dbd-8fec-529923d78f52",
   "metadata": {},
   "outputs": [],
   "source": [
    "# We use a variable containing a list with the values to be iterated through\n",
    "lifeExp_list = [28.801, 30.332, 31.997]\n",
    "\n",
    "# Initialize the loop\n",
    "for lifeExp in lifeExp_list:\n",
    "    rounded = round(lifeExp)\n",
    "    print(rounded)\n",
    "\n",
    "# This will only be printed when the loop has ended!\n",
    "print('The loop has ended.')"
   ]
  },
  {
   "cell_type": "markdown",
   "id": "39e819c5-a987-497f-a333-bd0971791c65",
   "metadata": {},
   "source": [
    "Note that the above example is pretty easy to read:\n",
    "\n",
    "\"**for** each number **in** our list, print out the rounded number\"."
   ]
  },
  {
   "cell_type": "markdown",
   "id": "7432909a-7e0e-4c32-a9bc-8d8e6d4026a2",
   "metadata": {},
   "source": [
    "## For Loop Syntax\n",
    "\n",
    "Let's break down the syntax of the `for` loop more closely.\n",
    "\n",
    "<img src=\"../images/for.png\" alt=\"For loop in Python\" width=\"700\"/>\n",
    "\n",
    "Pay attention to the **loop variable** (`lifeExp`). It stands for each item in the list (`lifeExp_list`) we are iterating through. Loop variables can have any name; if we'd change it to `x`, it would still work. However, loop variables only exist inside the loop.\n",
    "\n",
    "🔔 **Question**: Would you prefer `lifeExp` or `x` as a name for the loop variable? Why?"
   ]
  },
  {
   "cell_type": "markdown",
   "id": "cb4619e6-3a66-41a3-812f-5fcdd9c27e55",
   "metadata": {},
   "source": [
    "### 🦾 Challenge 8: Fixing Loop Syntax\n",
    "\n",
    "The following block of code contains **three errors** that are preventing it from running properly. \n",
    "\n",
    "📝 **Poll PyFun 5-1:** What are the three errors?"
   ]
  },
  {
   "cell_type": "code",
   "execution_count": null,
   "id": "ef5cf379-b99e-4b9d-a00f-81dbafb35ec4",
   "metadata": {},
   "outputs": [],
   "source": [
    "for number in [2.12, 3.432, 5.23]\n",
    "print(n)"
   ]
  },
  {
   "cell_type": "markdown",
   "id": "e50b80c7-2108-49b0-beae-b21d3c97b351",
   "metadata": {},
   "source": [
    "## Loops With Strings\n",
    "\n",
    "Loops can loop over any iterable data type. An **iterable** is any data type that can be iterated over, like a sequence. Generally, anything that can be indexed (e.g. accessed with `values[i]`) is an iterable.\n",
    "\n",
    "For example, a string is iterable, so it is possible to loop through a string!\n",
    "\n",
    "Let's take a look at an example:"
   ]
  },
  {
   "cell_type": "code",
   "execution_count": null,
   "id": "b6d755d4-e8bb-47bc-88be-729168de87cf",
   "metadata": {},
   "outputs": [],
   "source": [
    "example_string = 'daegu-il-highschool'\n",
    "\n",
    "for char in example_string:\n",
    "    # Use the upper() method on char\n",
    "    print(char.upper())"
   ]
  },
  {
   "cell_type": "markdown",
   "id": "85155c35-8a96-4f51-8b9a-673a35255761",
   "metadata": {
    "tags": []
   },
   "source": [
    "## Conditionals and Loops\n",
    "\n",
    "Recall that we can use `if`-statements to check if a condition is `True` or `False`. Also recall that `True` and `False` are called **Boolean values**.\n",
    "\n",
    "Conditionals are particularly useful when we're iterating through a list, and want to perform some operation only on specific components of that list that satisfy a certain condition."
   ]
  },
  {
   "cell_type": "code",
   "execution_count": null,
   "id": "65b4a571-813d-44d3-8818-eeaa361acb95",
   "metadata": {},
   "outputs": [],
   "source": [
    "numbers = [12, 20.2, 43, 88.88, 97, 100, 105, 110.9167]\n",
    "\n",
    "for number in numbers:\n",
    "    if number > 100:\n",
    "        print(number, 'is greater than 100.')"
   ]
  },
  {
   "cell_type": "markdown",
   "id": "42d51a57-6e99-4ab0-ac26-755017411c94",
   "metadata": {},
   "source": [
    "## Aggregating Values With Loops\n",
    "\n",
    "In the above example, we are operating on each value in `numbers`. However, instead of simply printing the results, we often will want to save them somehow. We can do this with an **accumulator variable**.\n",
    "\n",
    "A common strategy in programs is to:\n",
    "1.  Initialize an accumulator variable appropriate to the datatype of the output:\n",
    "    * `int` : `0`\n",
    "    * `str` : `''`\n",
    "    * `list` : `[]`\n",
    "2.  Update the variable with values from a collection through a `for` loop. Typical update operations are:\n",
    "    * `int` : `+`\n",
    "    * `str` : `+`\n",
    "    * `list` : `.append()`\n",
    "    \n",
    "The result of this is a single list, number, or string with a summary value for the entire collection being looped over.\n",
    "\n",
    "We can make a new list with all of the rounded numbers:"
   ]
  },
  {
   "cell_type": "code",
   "execution_count": null,
   "id": "1e244a35-ad56-4ddb-9834-ac30debce77c",
   "metadata": {},
   "outputs": [],
   "source": [
    "rounded_numbers = []\n",
    "\n",
    "for number in numbers: \n",
    "    rounded = round(number)\n",
    "    rounded_numbers.append(rounded)\n",
    "\n",
    "print('Rounded numbers:', rounded_numbers)"
   ]
  },
  {
   "cell_type": "markdown",
   "id": "964b6849-20eb-4892-82c9-6af7da78fcb5",
   "metadata": {},
   "source": [
    "### 🦾 Challenge 9: Aggregation Practice\n",
    "\n",
    "Below are a few examples showing the different types of quantities you might aggregate using a for loop. These loops are partially filled out. Finish them and test that they work!"
   ]
  },
  {
   "cell_type": "markdown",
   "id": "1c16ea4f-553e-4caa-a3d4-db4626acde51",
   "metadata": {},
   "source": [
    "1. Find the total length of the strings in the given list. Store this quantity in a variable called `total`."
   ]
  },
  {
   "cell_type": "code",
   "execution_count": null,
   "id": "6bfc8429-845b-4148-bb04-92c4c7394c2a",
   "metadata": {},
   "outputs": [],
   "source": [
    "total = 0\n",
    "words = ['red', 'green', 'blue']\n",
    "\n",
    "for w in words:\n",
    "    ... = ... + len(w)\n",
    "\n",
    "print(total)"
   ]
  },
  {
   "cell_type": "markdown",
   "id": "ece480ce-4702-4a33-984d-5072ab3729d6",
   "metadata": {},
   "source": [
    "2. Find the length of each word in the list, and store these lengths in another list called `lengths`."
   ]
  },
  {
   "cell_type": "code",
   "execution_count": null,
   "id": "f7fed9ad-1ab6-4bb5-a2de-36f598f93909",
   "metadata": {},
   "outputs": [],
   "source": [
    "lengths = ...\n",
    "words = ['red', 'green', 'blue']\n",
    "\n",
    "for w in words:\n",
    "    lengths....(...)\n",
    "\n",
    "print(lengths)"
   ]
  },
  {
   "cell_type": "markdown",
   "id": "16d566d1-9618-4ba4-9dec-1b3534d6e3d1",
   "metadata": {},
   "source": [
    "3. Concatenate all words into a single string called `result`."
   ]
  },
  {
   "cell_type": "code",
   "execution_count": null,
   "id": "09ebd056-792c-44be-a599-2bfab8d103d9",
   "metadata": {},
   "outputs": [],
   "source": [
    "words = ['red', 'green', 'blue']\n",
    "result = ...\n",
    "\n",
    "for ... in ...:\n",
    "    ...\n",
    "\n",
    "print(result)"
   ]
  },
  {
   "cell_type": "markdown",
   "id": "3121e411-9a7d-42b9-b852-c048f8c4c921",
   "metadata": {},
   "source": [
    "💡 **Tip**: You might also encounter **[while loops](https://www.w3schools.com/python/python_while_loops.asp)**. A while loop says: \"*while* Condition A is true, *do* these operations\". We don't use these loops frequently in this type of programming so we won't cover them here."
   ]
  }
 ],
 "metadata": {
  "kernelspec": {
   "display_name": "Python 3 (ipykernel)",
   "language": "python",
   "name": "python3"
  },
  "language_info": {
   "codemirror_mode": {
    "name": "ipython",
    "version": 3
   },
   "file_extension": ".py",
   "mimetype": "text/x-python",
   "name": "python",
   "nbconvert_exporter": "python",
   "pygments_lexer": "ipython3",
   "version": "3.9.18"
  }
 },
 "nbformat": 4,
 "nbformat_minor": 5
}
